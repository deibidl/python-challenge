{
 "cells": [
  {
   "cell_type": "code",
   "execution_count": 31,
   "metadata": {},
   "outputs": [],
   "source": [
    "# Importing deepndencies\n",
    "import pandas as pd\n",
    "\n",
    "# Path to the data \n",
    "pybank_path = \"Resources/budget_data.csv\"\n",
    "\n",
    "# Read data \n",
    "pybank_df = pd.read_csv(pybank_path)\n",
    "pybank_df.head()\n",
    "\n",
    "# Number of unique months\n",
    "total_n_months = len(set(pybank_df[\"Date\"]))\n",
    "total_n_months\n",
    "\n",
    "# Net Total \"Profit/Losses\"\n",
    "total_profits = pybank_df[\"Profit/Losses\"].sum()\n",
    "total_profits\n",
    "\n",
    "# Average Change\n",
    "pybank_df[\"Profit Change\"] = pybank_df[\"Profit/Losses\"] - pybank_df[\"Profit/Losses\"].shift(1) \n",
    "average_change = round(pybank_df[\"Profit Change\"].mean(), 2)\n",
    "average_change\n",
    "\n",
    "# Greatest Increase in Profit\n",
    "month_max_profit_change = pybank_df.loc[pybank_df[\"Profit Change\"] == pybank_df[\"Profit Change\"].max(), [\"Date\",\"Profit Change\"]]\n",
    "month_max_profit_change\n",
    "\n",
    "# Greatest Decrease in Profits\n",
    "month_min_profit_change = pybank_df.loc[pybank_df[\"Profit Change\"] == pybank_df[\"Profit Change\"].min(), [\"Date\",\"Profit Change\"]]\n",
    "month_min_profit_change\n",
    "type(str(month_max_profit_change[\"Date\"]))\n",
    "\n",
    "# Dictionary with summary\n",
    "pybank_summary_dict = {\n",
    "    \"Total Months\" : total_n_months,\n",
    "    \"Total Profits\" : f\"${total_profits}\",\n",
    "    \"Average Change in Profits\" : f\"${average_change}\",\n",
    "    \"Greates Increase in Profits\" : f'{month_max_profit_change[\"Date\"].values[0]} \\\n",
    "(${month_max_profit_change[\"Profit Change\"].values[0]})',\n",
    "    \"Greates Decrease in Profits\" : f'{month_min_profit_change[\"Date\"].values[0]} \\\n",
    "(${month_min_profit_change[\"Profit Change\"].values[0]})'\n",
    "    \n",
    "}\n",
    "\n",
    "# Data Frame from dictorionary\n",
    "pybank_summary = pd.DataFrame.from_dict(pybank_summary_dict, orient='index', columns = [\"Value\"])\n",
    "pybank_summary\n",
    "\n",
    "# Saving as a txt file\n",
    "f = open('pybank_summary.txt','w')\n",
    "f.write(pybank_summary.to_string())\n",
    "f.close()\n",
    "\n"
   ]
  },
  {
   "cell_type": "code",
   "execution_count": null,
   "metadata": {},
   "outputs": [],
   "source": []
  },
  {
   "cell_type": "code",
   "execution_count": null,
   "metadata": {},
   "outputs": [],
   "source": []
  }
 ],
 "metadata": {
  "kernelspec": {
   "display_name": "Python 3",
   "language": "python",
   "name": "python3"
  },
  "language_info": {
   "codemirror_mode": {
    "name": "ipython",
    "version": 3
   },
   "file_extension": ".py",
   "mimetype": "text/x-python",
   "name": "python",
   "nbconvert_exporter": "python",
   "pygments_lexer": "ipython3",
   "version": "3.7.3"
  }
 },
 "nbformat": 4,
 "nbformat_minor": 2
}
