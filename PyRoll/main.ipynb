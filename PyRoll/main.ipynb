{
 "cells": [
  {
   "cell_type": "code",
   "execution_count": 69,
   "metadata": {},
   "outputs": [],
   "source": [
    "# Importing deepndencies\n",
    "import pandas as pd\n",
    "\n",
    "# Path to the data \n",
    "pypoll_path = \"Resources/election_data.csv\"\n",
    "\n",
    "# Read data \n",
    "pypoll_df = pd.read_csv(pypoll_path)\n",
    "pypoll_df.head()\n",
    "\n",
    "\n",
    "# Number of unique voters\n",
    "total_votes = len(set(pypoll_df[\"Voter ID\"]))\n",
    "total_votes\n",
    "\n",
    "# Votes per Candidate\n",
    "votes_per_candiate = pypoll_df.groupby(['Candidate'])[\"Voter ID\"].count().reset_index(name = \"Votes\")\n",
    "votes_per_candiate[\"Votes %\"] =  round(votes_per_candiate[\"Votes\"] * 100 / total_votes, 2)\n",
    "votes_per_candiate[\"Votes % (N)\"] = votes_per_candiate[\"Votes %\"].astype(str) + \" (\" + votes_per_candiate[\"Votes\"].astype(str) + \")\"\n",
    "votes_per_candiate_summary = votes_per_candiate[[\"Candidate\", \"Votes % (N)\"]]\n",
    "votes_per_candiate_summary\n",
    "\n",
    "# Winner\n",
    "election_winner = votes_per_candiate.loc[votes_per_candiate[\"Votes\"] == votes_per_candiate[\"Votes\"].max(), [\"Candidate\"]]\n",
    "election_winner\n",
    "\n",
    "# Summary\n",
    "with open(\"pypoll_summary.txt\", \"a\") as f:\n",
    "    print(f\"Election Results\", file = f)\n",
    "    print(f\"---------------------------------------------------------------\", file = f)\n",
    "    print(f\"Total number of votes casted in the election: {total_votes}\", file = f)\n",
    "    print(f\"---------------------------------------------------------------\", file = f)\n",
    "    print(votes_per_candiate_summary.to_string(index = False), file = f)\n",
    "    print(f\"---------------------------------------------------------------\", file = f)\n",
    "    print(f\"The winner of the election is: {election_winner['Candidate'].values[0]}\", file = f)\n",
    "f.close()\n",
    "\n"
   ]
  },
  {
   "cell_type": "code",
   "execution_count": null,
   "metadata": {},
   "outputs": [],
   "source": []
  }
 ],
 "metadata": {
  "kernelspec": {
   "display_name": "Python 3",
   "language": "python",
   "name": "python3"
  },
  "language_info": {
   "codemirror_mode": {
    "name": "ipython",
    "version": 3
   },
   "file_extension": ".py",
   "mimetype": "text/x-python",
   "name": "python",
   "nbconvert_exporter": "python",
   "pygments_lexer": "ipython3",
   "version": "3.7.3"
  }
 },
 "nbformat": 4,
 "nbformat_minor": 2
}
